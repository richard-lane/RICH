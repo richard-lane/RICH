{
 "cells": [
  {
   "cell_type": "markdown",
   "metadata": {},
   "source": [
    "RICH Alignment Demo\n",
    "====\n",
    "\n",
    "The LHCb RICH detectors use mirrors to focus and redirect Cherenkov photons; misalignment of these mirrors results in shifted Cherenkov rings:\n",
    "\n",
    "<img src=\"img/rings.png\">"
   ]
  },
  {
   "cell_type": "markdown",
   "metadata": {},
   "source": [
    "The LHCb RICH mirror alignment procedure is relatively simple: we can see the tracking spot and the Cherenkov ring- all we need to do is move the mirrors until the tracking spot is in the centre of the ring.\n",
    "\n",
    "Practically, we measure the shift by plotting the Cherenkov opening angle as a function of azimuthal angle:\n",
    "\n",
    "<img src=\"img/r_phi.png\">\n",
    "\n",
    "If the mirrors are aligned, r(Φ) = a constant."
   ]
  },
  {
   "cell_type": "code",
   "execution_count": null,
   "metadata": {},
   "outputs": [],
   "source": [
    "%matplotlib widget\n",
    "import matplotlib.pyplot as plt\n",
    "\n",
    "import rich_ring\n",
    "import ring_plots"
   ]
  },
  {
   "cell_type": "code",
   "execution_count": null,
   "metadata": {},
   "outputs": [],
   "source": [
    "\"\"\"\n",
    "Plot the diagram\n",
    "\n",
    "\"\"\"\n",
    "def plot_ring():\n",
    "    \"\"\"\n",
    "    Create an interactive plot of a Cherenkov ring\n",
    "    \n",
    "    n points around the circle (higher => higher resolution, but slower to update)\n",
    "    \n",
    "    \"\"\"\n",
    "    My_Ring = rich_ring.Ring(0.0, 0.0)\n",
    "    n = 25\n",
    "    figsize = (9.0, 3.0)\n",
    "\n",
    "    # Create some empty plots\n",
    "    ax, ax2 = ring_plots._empty_figure(figsize)\n",
    "    ring, ring_centre, horizontal, angled_line, phi_label, r_label = ring_plots._setup_diagram(ax)\n",
    "    line, title = ring_plots._setup_plot(ax2)\n",
    "\n",
    "    # Create sliders that will allow us to move the Cherenkov ring around\n",
    "    x_slider, y_slider = ring_plots._create_sliders(*My_Ring.centre())\n",
    "\n",
    "    # Fill the plots in\n",
    "    ring_centre_coords = My_Ring.centre()\n",
    "    ring_boundary_coords = My_Ring.boundary(n)\n",
    "    r, phi = My_Ring.misalignment(n)\n",
    "    ring_plots._draw_diagram(\n",
    "        ring_boundary_coords,\n",
    "        ring_centre_coords,\n",
    "        r[0],\n",
    "        n,\n",
    "        horizontal,\n",
    "        angled_line,\n",
    "        ring,\n",
    "        ring_centre,\n",
    "        r_label,\n",
    "        phi_label,\n",
    "    )\n",
    "    ring_plots._draw_plot(r, phi, ring_centre_coords, n, line, title)\n",
    "\n",
    "    def update(val):\n",
    "        \"\"\"\n",
    "        Move all the components of the plot according to the values of the sliders\n",
    "        \n",
    "        \"\"\"\n",
    "        x, y = x_slider.val, y_slider.val\n",
    "        My_Ring.move(x, y)\n",
    "\n",
    "        ring_boundary_coords = My_Ring.boundary(n)\n",
    "        r, phi = My_Ring.misalignment(n)\n",
    "\n",
    "        ring_plots._draw_diagram(\n",
    "            ring_boundary_coords,\n",
    "            (x, y),\n",
    "            r[0],\n",
    "            n,\n",
    "            horizontal,\n",
    "            angled_line,\n",
    "            ring,\n",
    "            ring_centre,\n",
    "            r_label,\n",
    "            phi_label,\n",
    "        )\n",
    "        ring_plots._draw_plot(r, phi, (x, y), n, line, title)\n",
    "\n",
    "    # When our slider changes, update the plot\n",
    "    x_slider.on_changed(update)\n",
    "    y_slider.on_changed(update)\n",
    "\n",
    "    plt.show()\n",
    "\n",
    "\n",
    "plot_ring()"
   ]
  },
  {
   "cell_type": "code",
   "execution_count": null,
   "metadata": {},
   "outputs": [],
   "source": []
  }
 ],
 "metadata": {
  "kernelspec": {
   "display_name": "Python 3",
   "language": "python",
   "name": "python3"
  },
  "language_info": {
   "codemirror_mode": {
    "name": "ipython",
    "version": 3
   },
   "file_extension": ".py",
   "mimetype": "text/x-python",
   "name": "python",
   "nbconvert_exporter": "python",
   "pygments_lexer": "ipython3",
   "version": "3.7.3"
  }
 },
 "nbformat": 4,
 "nbformat_minor": 2
}
